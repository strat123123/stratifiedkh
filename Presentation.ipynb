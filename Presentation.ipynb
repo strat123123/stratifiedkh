{
 "cells": [
  {
   "cell_type": "markdown",
   "metadata": {},
   "source": [
    "# The stratified Kelvin-Helmholtz instability"
   ]
  },
  {
   "cell_type": "markdown",
   "metadata": {},
   "source": [
    "#### The set-up\n",
    "\n",
    "$$ \\partial_t \\rho' + \\boldsymbol{u} \\cdot \\nabla \\rho' + w \\frac{d \\rho_0}{d z} = 0$$\n",
    "\n",
    "For z > 0\n",
    "\n",
    "$$ \\partial_t u_1' + U_0 \\partial_x u_1' = -\\frac{-\\partial_x p'}{\\rho_1} $$ \n",
    "$$ \\partial_t w_1' + U_0 \\partial_x w_1' = -\\frac{\\partial_z p'}{\\rho_1} $$ \n",
    "$$\\partial_x u'_1 + \\partial_z w'_1 = 0$$\n",
    "\n",
    "For z < 0: \n",
    "\n",
    "$$ \\partial_t u_2' + U_0 \\partial_x u_2' = -\\frac{-\\partial_x p'}{\\rho_2} $$ \n",
    "$$ \\partial_t w_2' + U_0 \\partial_x w_2' = -\\frac{\\partial_z p'}{\\rho_2} $$ \n",
    "$$\\partial_x u'_2 + \\partial_z w'_2 = 0$$"
   ]
  },
  {
   "cell_type": "markdown",
   "metadata": {},
   "source": [
    "#### Boundary conditions\n",
    "\n",
    "$$ \\widehat{\\boldsymbol{\\eta}} = \\frac{i k \\psi_1(\\eta_+)}{\\sigma + ik U_0} = \\frac{i k \\psi_2(\\eta_-)}{\\sigma - ik U_0}$$\n",
    "\n",
    "$$ \\rho_1\\left[(\\sigma + ik U_0) \\partial_z \\widehat{\\psi}_1(0) + \\frac{k^2 g \\widehat{\\psi}_1(0)}{\\sigma + ik U_0}\\right] = \\rho_2 \\left[(\\sigma - ik U_0) \\partial_z \\widehat{\\psi}_2(0) + \\frac{k^2 g \\widehat{\\psi}_2(0)}{\\sigma - ik U_0} \\right] $$\n",
    "\n",
    "\n",
    "And as $z \\rightarrow \\infty$:\n",
    "$$ |\\psi_1'|, |p_1'| \\rightarrow 0 $$\n",
    "\n",
    "And as $z \\rightarrow -\\infty$:\n",
    "$$ |\\psi_2'|, |p_2'| \\rightarrow 0 $$\n",
    "\n",
    "\n"
   ]
  },
  {
   "cell_type": "markdown",
   "metadata": {},
   "source": [
    "#### The growth factor $\\sigma$\n",
    "\n",
    "$$ \\sigma = \\frac{ik U_0 \\epsilon}{2} \\sqrt{k^2 U_0^2 \\left(1 - \\frac{\\epsilon^2}{4} \\right) - \\frac{g k \\epsilon}{2}}  $$\n",
    "\n",
    "$$ \\epsilon = \\frac{\\rho_2 - \\rho_1}{(\\rho_1+\\rho_2)/2}= \\frac{\\Delta \\rho}{\\rho_m} $$"
   ]
  }
 ],
 "metadata": {
  "kernelspec": {
   "display_name": "Python 3",
   "language": "python",
   "name": "python3"
  },
  "language_info": {
   "codemirror_mode": {
    "name": "ipython",
    "version": 3
   },
   "file_extension": ".py",
   "mimetype": "text/x-python",
   "name": "python",
   "nbconvert_exporter": "python",
   "pygments_lexer": "ipython3",
   "version": "3.6.5"
  }
 },
 "nbformat": 4,
 "nbformat_minor": 2
}

